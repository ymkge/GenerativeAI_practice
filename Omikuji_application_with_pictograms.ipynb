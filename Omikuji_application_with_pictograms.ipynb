{
  "nbformat": 4,
  "nbformat_minor": 0,
  "metadata": {
    "colab": {
      "provenance": [],
      "authorship_tag": "ABX9TyPUC8neVKatBb9obbHOJDLx",
      "include_colab_link": true
    },
    "kernelspec": {
      "name": "python3",
      "display_name": "Python 3"
    },
    "language_info": {
      "name": "python"
    },
    "widgets": {
      "application/vnd.jupyter.widget-state+json": {
        "d74d9c1d3544429da36f8734bb4ecead": {
          "model_module": "@jupyter-widgets/controls",
          "model_name": "ButtonModel",
          "model_module_version": "1.5.0",
          "state": {
            "_dom_classes": [],
            "_model_module": "@jupyter-widgets/controls",
            "_model_module_version": "1.5.0",
            "_model_name": "ButtonModel",
            "_view_count": null,
            "_view_module": "@jupyter-widgets/controls",
            "_view_module_version": "1.5.0",
            "_view_name": "ButtonView",
            "button_style": "info",
            "description": "おみくじを引く",
            "disabled": false,
            "icon": "",
            "layout": "IPY_MODEL_9ddfcecf9e444eadab06cd8d2394bf0d",
            "style": "IPY_MODEL_2858145fd86142c89479e131d13c1717",
            "tooltip": ""
          }
        },
        "9ddfcecf9e444eadab06cd8d2394bf0d": {
          "model_module": "@jupyter-widgets/base",
          "model_name": "LayoutModel",
          "model_module_version": "1.2.0",
          "state": {
            "_model_module": "@jupyter-widgets/base",
            "_model_module_version": "1.2.0",
            "_model_name": "LayoutModel",
            "_view_count": null,
            "_view_module": "@jupyter-widgets/base",
            "_view_module_version": "1.2.0",
            "_view_name": "LayoutView",
            "align_content": null,
            "align_items": null,
            "align_self": null,
            "border": null,
            "bottom": null,
            "display": null,
            "flex": null,
            "flex_flow": null,
            "grid_area": null,
            "grid_auto_columns": null,
            "grid_auto_flow": null,
            "grid_auto_rows": null,
            "grid_column": null,
            "grid_gap": null,
            "grid_row": null,
            "grid_template_areas": null,
            "grid_template_columns": null,
            "grid_template_rows": null,
            "height": "70px",
            "justify_content": null,
            "justify_items": null,
            "left": null,
            "margin": null,
            "max_height": null,
            "max_width": null,
            "min_height": null,
            "min_width": null,
            "object_fit": null,
            "object_position": null,
            "order": null,
            "overflow": null,
            "overflow_x": null,
            "overflow_y": null,
            "padding": null,
            "right": null,
            "top": null,
            "visibility": null,
            "width": "300px"
          }
        },
        "2858145fd86142c89479e131d13c1717": {
          "model_module": "@jupyter-widgets/controls",
          "model_name": "ButtonStyleModel",
          "model_module_version": "1.5.0",
          "state": {
            "_model_module": "@jupyter-widgets/controls",
            "_model_module_version": "1.5.0",
            "_model_name": "ButtonStyleModel",
            "_view_count": null,
            "_view_module": "@jupyter-widgets/base",
            "_view_module_version": "1.2.0",
            "_view_name": "StyleView",
            "button_color": null,
            "font_weight": ""
          }
        }
      }
    }
  },
  "cells": [
    {
      "cell_type": "markdown",
      "metadata": {
        "id": "view-in-github",
        "colab_type": "text"
      },
      "source": [
        "<a href=\"https://colab.research.google.com/github/ymkge/GenerativeAI_practice/blob/main/Omikuji_application_with_pictograms.ipynb\" target=\"_parent\"><img src=\"https://colab.research.google.com/assets/colab-badge.svg\" alt=\"Open In Colab\"/></a>"
      ]
    },
    {
      "cell_type": "code",
      "execution_count": 11,
      "metadata": {
        "colab": {
          "base_uri": "https://localhost:8080/",
          "height": 292,
          "referenced_widgets": [
            "d74d9c1d3544429da36f8734bb4ecead",
            "9ddfcecf9e444eadab06cd8d2394bf0d",
            "2858145fd86142c89479e131d13c1717"
          ]
        },
        "id": "AIAEn1ylLlAm",
        "outputId": "11e5abc6-65de-474d-d2ca-2e9c94afce48"
      },
      "outputs": [
        {
          "output_type": "display_data",
          "data": {
            "text/plain": [
              "Button(button_style='info', description='おみくじを引く', layout=Layout(height='70px', width='300px'), style=ButtonSt…"
            ],
            "application/vnd.jupyter.widget-view+json": {
              "version_major": 2,
              "version_minor": 0,
              "model_id": "d74d9c1d3544429da36f8734bb4ecead"
            }
          },
          "metadata": {}
        },
        {
          "output_type": "stream",
          "name": "stdout",
          "text": [
            "今日の運勢は、大吉😆😆😆です。\n",
            "今日の運勢は、吉😁です。\n",
            "今日の運勢は、大吉😆😆😆です。\n",
            "今日の運勢は、中吉😀です。\n",
            "今日の運勢は、大吉😆😆😆です。\n",
            "今日の運勢は、中吉😀です。\n",
            "今日の運勢は、末吉😐です。\n",
            "今日の運勢は、末吉😐です。\n",
            "今日の運勢は、吉😁です。\n",
            "今日の運勢は、凶😭😭😭です。\n",
            "今日の運勢は、小吉🙂です。\n"
          ]
        }
      ],
      "source": [
        "import random\n",
        "import numpy as np\n",
        "import ipywidgets as widgets\n",
        "from IPython.display import display\n",
        "\n",
        "\n",
        "# おみくじの結果リスト\n",
        "omikuji_results = [\"大吉\", \"吉\", \"中吉\", \"小吉\", \"末吉\", \"凶\"]\n",
        "\n",
        "# おみくじ結果の絵文字辞書\n",
        "pictograms_images = {\n",
        "    \"大吉\": \"😆😆😆\",\n",
        "    \"吉\": \"😁\",\n",
        "    \"中吉\": \"😀\",\n",
        "    \"小吉\": \"🙂\",\n",
        "    \"末吉\": \"😐\",\n",
        "    \"凶\": \"😭😭😭\",\n",
        "}\n",
        "\n",
        "# 結果の表示\n",
        "def draw_omikuji(b):\n",
        "  result = np.random.choice(omikuji_results, p=[0.1, 0.2, 0.2, 0.2, 0.2, 0.1])\n",
        "  print(f\"今日の運勢は、{result}{pictograms_images[result]}です。\")\n",
        "\n",
        "# ボタンの設定\n",
        "button = widgets.Button(description=\"おみくじを引く\", button_style=\"info\")\n",
        "button.layout = widgets.Layout(width=\"300px\", height=\"70px\")\n",
        "\n",
        "# ボタンを押した時の処理\n",
        "button.on_click(draw_omikuji)\n",
        "\n",
        "# ボタンを表示\n",
        "display(button)\n"
      ]
    }
  ]
}