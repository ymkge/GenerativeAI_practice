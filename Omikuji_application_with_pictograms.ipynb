{
  "nbformat": 4,
  "nbformat_minor": 0,
  "metadata": {
    "colab": {
      "provenance": [],
      "authorship_tag": "ABX9TyMNqdkh3w98hcgui6h0Y7Vv",
      "include_colab_link": true
    },
    "kernelspec": {
      "name": "python3",
      "display_name": "Python 3"
    },
    "language_info": {
      "name": "python"
    }
  },
  "cells": [
    {
      "cell_type": "markdown",
      "metadata": {
        "id": "view-in-github",
        "colab_type": "text"
      },
      "source": [
        "<a href=\"https://colab.research.google.com/github/ymkge/GenerativeAI_practice/blob/main/Omikuji_application_with_pictograms.ipynb\" target=\"_parent\"><img src=\"https://colab.research.google.com/assets/colab-badge.svg\" alt=\"Open In Colab\"/></a>"
      ]
    },
    {
      "cell_type": "markdown",
      "source": [
        "## おみくじ機能の作成"
      ],
      "metadata": {
        "id": "RznOdbZHQzFw"
      }
    },
    {
      "cell_type": "code",
      "execution_count": null,
      "metadata": {
        "id": "AIAEn1ylLlAm",
        "collapsed": true
      },
      "outputs": [],
      "source": [
        "import random\n",
        "import numpy as np\n",
        "import ipywidgets as widgets\n",
        "from IPython.display import display\n",
        "\n",
        "\n",
        "# おみくじの結果リスト\n",
        "omikuji_results = [\"大吉\", \"吉\", \"中吉\", \"小吉\", \"末吉\", \"凶\"]\n",
        "\n",
        "# おみくじ結果の絵文字辞書\n",
        "pictograms_images = {\n",
        "    \"大吉\": \"😆😆😆\",\n",
        "    \"吉\": \"😁\",\n",
        "    \"中吉\": \"😀\",\n",
        "    \"小吉\": \"🙂\",\n",
        "    \"末吉\": \"😐\",\n",
        "    \"凶\": \"😭😭😭\",\n",
        "}\n",
        "\n",
        "# 結果の表示\n",
        "def draw_omikuji(b):\n",
        "  result = np.random.choice(omikuji_results, p=[0.1, 0.2, 0.2, 0.2, 0.2, 0.1])\n",
        "  print(f\"今日の運勢は、{result}{pictograms_images[result]}です。\")\n",
        "\n",
        "# ボタンの設定\n",
        "button = widgets.Button(description=\"おみくじを引く\", button_style=\"info\")\n",
        "button.layout = widgets.Layout(width=\"300px\", height=\"70px\")\n",
        "\n",
        "# ボタンを押した時の処理\n",
        "button.on_click(draw_omikuji)\n",
        "\n",
        "# ボタンを表示\n",
        "display(button)\n"
      ]
    }
  ]
}