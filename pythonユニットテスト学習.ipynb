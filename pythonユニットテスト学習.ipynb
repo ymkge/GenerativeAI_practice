{
  "nbformat": 4,
  "nbformat_minor": 0,
  "metadata": {
    "colab": {
      "provenance": [],
      "authorship_tag": "ABX9TyNzPGKwF4jK/G0WU5Z/9zVE",
      "include_colab_link": true
    },
    "kernelspec": {
      "name": "python3",
      "display_name": "Python 3"
    },
    "language_info": {
      "name": "python"
    }
  },
  "cells": [
    {
      "cell_type": "markdown",
      "metadata": {
        "id": "view-in-github",
        "colab_type": "text"
      },
      "source": [
        "<a href=\"https://colab.research.google.com/github/ymkge/GenerativeAI_practice/blob/main/python%E3%83%A6%E3%83%8B%E3%83%83%E3%83%88%E3%83%86%E3%82%B9%E3%83%88%E5%AD%A6%E7%BF%92.ipynb\" target=\"_parent\"><img src=\"https://colab.research.google.com/assets/colab-badge.svg\" alt=\"Open In Colab\"/></a>"
      ]
    },
    {
      "cell_type": "code",
      "source": [
        "!pip install pytest"
      ],
      "metadata": {
        "colab": {
          "base_uri": "https://localhost:8080/"
        },
        "id": "HYMIaYZ3eE1H",
        "outputId": "b89c5b35-da4b-4a09-c769-aef8bde2ce53"
      },
      "execution_count": 2,
      "outputs": [
        {
          "output_type": "stream",
          "name": "stdout",
          "text": [
            "Requirement already satisfied: pytest in /usr/local/lib/python3.11/dist-packages (8.3.5)\n",
            "Requirement already satisfied: iniconfig in /usr/local/lib/python3.11/dist-packages (from pytest) (2.1.0)\n",
            "Requirement already satisfied: packaging in /usr/local/lib/python3.11/dist-packages (from pytest) (24.2)\n",
            "Requirement already satisfied: pluggy<2,>=1.5 in /usr/local/lib/python3.11/dist-packages (from pytest) (1.5.0)\n"
          ]
        }
      ]
    },
    {
      "cell_type": "code",
      "execution_count": null,
      "metadata": {
        "id": "s8T_cw2wdbyP"
      },
      "outputs": [],
      "source": [
        "#@title 3-1-1: テストコレクションの対象になる要件\n",
        "\n",
        "# テストファイル名: test_example.py\n",
        "# テストクラス: class TestExampleClass, ExampleClassTest\n",
        "# テストメソッド: def test_method_name(self)\n",
        "# テスト関数: def test_method_name()"
      ]
    },
    {
      "cell_type": "code",
      "source": [
        "#@title 3-2: アサーション"
      ],
      "metadata": {
        "id": "03glLFqYe6oK"
      },
      "execution_count": null,
      "outputs": []
    },
    {
      "cell_type": "code",
      "source": [
        "import pytest"
      ],
      "metadata": {
        "id": "xLJ1LwL4KmSo"
      },
      "execution_count": 3,
      "outputs": []
    },
    {
      "cell_type": "code",
      "source": [
        "def test_raises_with () :\n",
        "  \"\"\" with を使って ValueError が発生するか確認 \"\"\"\n",
        "  with pytest.raises(ValueError):\n",
        "    int( 'a' )\n",
        "def test_raises_not_with () :\n",
        "  \"\"\" ValueError が発生するか確認 \"\"\"\n",
        "  pytest.raises(ValueError, int, 'a' )"
      ],
      "metadata": {
        "id": "Jd-48bvqPWcv"
      },
      "execution_count": 5,
      "outputs": []
    },
    {
      "cell_type": "code",
      "source": [
        "#@title Coverage\n",
        "!pip install Coverage"
      ],
      "metadata": {
        "colab": {
          "base_uri": "https://localhost:8080/"
        },
        "id": "gBwfkEHUPg_W",
        "outputId": "fe1c3891-24a6-4d74-b8fd-2dd946c52232"
      },
      "execution_count": 6,
      "outputs": [
        {
          "output_type": "stream",
          "name": "stdout",
          "text": [
            "Collecting Coverage\n",
            "  Downloading coverage-7.8.0-cp311-cp311-manylinux_2_5_x86_64.manylinux1_x86_64.manylinux_2_17_x86_64.manylinux2014_x86_64.whl.metadata (8.5 kB)\n",
            "Downloading coverage-7.8.0-cp311-cp311-manylinux_2_5_x86_64.manylinux1_x86_64.manylinux_2_17_x86_64.manylinux2014_x86_64.whl (244 kB)\n",
            "\u001b[?25l   \u001b[90m━━━━━━━━━━━━━━━━━━━━━━━━━━━━━━━━━━━━━━━━\u001b[0m \u001b[32m0.0/244.0 kB\u001b[0m \u001b[31m?\u001b[0m eta \u001b[36m-:--:--\u001b[0m\r\u001b[2K   \u001b[91m━━━━━━━━━━━━━━━━━━━━━━━━━━\u001b[0m\u001b[91m╸\u001b[0m\u001b[90m━━━━━━━━━━━━━\u001b[0m \u001b[32m163.8/244.0 kB\u001b[0m \u001b[31m5.4 MB/s\u001b[0m eta \u001b[36m0:00:01\u001b[0m\r\u001b[2K   \u001b[90m━━━━━━━━━━━━━━━━━━━━━━━━━━━━━━━━━━━━━━━━\u001b[0m \u001b[32m244.0/244.0 kB\u001b[0m \u001b[31m4.8 MB/s\u001b[0m eta \u001b[36m0:00:00\u001b[0m\n",
            "\u001b[?25hInstalling collected packages: Coverage\n",
            "Successfully installed Coverage-7.8.0\n"
          ]
        }
      ]
    },
    {
      "cell_type": "code",
      "source": [
        "#@title unittestでカバレッジテストを実行\n",
        "!coverage run -m unittest"
      ],
      "metadata": {
        "colab": {
          "base_uri": "https://localhost:8080/"
        },
        "id": "piclVFl-bIym",
        "outputId": "374bcc3a-efe2-4ebc-db8c-cea5007ed17f"
      },
      "execution_count": 11,
      "outputs": [
        {
          "output_type": "stream",
          "name": "stdout",
          "text": [
            "\n",
            "----------------------------------------------------------------------\n",
            "Ran 0 tests in 0.000s\n",
            "\n",
            "OK\n",
            "/usr/local/lib/python3.11/dist-packages/coverage/control.py:915: CoverageWarning: No data was collected. (no-data-collected)\n",
            "  self._warn(\"No data was collected.\", slug=\"no-data-collected\")\n"
          ]
        }
      ]
    },
    {
      "cell_type": "code",
      "source": [
        "#@title pytestでカバレッジテストを実行\n",
        "!coverage run -m pytest"
      ],
      "metadata": {
        "colab": {
          "base_uri": "https://localhost:8080/"
        },
        "id": "Dv0ihSCRbI1H",
        "outputId": "bde4730b-f149-4684-92f7-1813bfdbc798"
      },
      "execution_count": 10,
      "outputs": [
        {
          "output_type": "stream",
          "name": "stdout",
          "text": [
            "\u001b[1m============================= test session starts ==============================\u001b[0m\n",
            "platform linux -- Python 3.11.12, pytest-8.3.5, pluggy-1.5.0\n",
            "rootdir: /content\n",
            "plugins: langsmith-0.3.42, anyio-4.9.0, typeguard-4.4.2\n",
            "\u001b[1mcollecting ... \u001b[0m\u001b[1m\rcollected 0 items                                                              \u001b[0m\n",
            "\n",
            "\u001b[33m============================ \u001b[33mno tests ran\u001b[0m\u001b[33m in 0.02s\u001b[0m\u001b[33m =============================\u001b[0m\n",
            "/usr/local/lib/python3.11/dist-packages/coverage/control.py:915: CoverageWarning: No data was collected. (no-data-collected)\n",
            "  self._warn(\"No data was collected.\", slug=\"no-data-collected\")\n"
          ]
        }
      ]
    },
    {
      "cell_type": "code",
      "source": [
        "#@title カバレッジレポートの表示\n",
        "!coverage report"
      ],
      "metadata": {
        "colab": {
          "base_uri": "https://localhost:8080/"
        },
        "id": "Udgcl5lZbSGK",
        "outputId": "2d8d3b39-3a9b-48d5-81f8-0bd0b0e7692f"
      },
      "execution_count": 12,
      "outputs": [
        {
          "output_type": "stream",
          "name": "stdout",
          "text": [
            "No data to report.\n"
          ]
        }
      ]
    },
    {
      "cell_type": "code",
      "source": [
        "#@title HTML形式のカバレッジレポートの生成\n",
        "!coverage html\n"
      ],
      "metadata": {
        "colab": {
          "base_uri": "https://localhost:8080/"
        },
        "id": "hCKqU_aVbSI8",
        "outputId": "aeb4b60f-781a-4933-a269-699f904f0ebb"
      },
      "execution_count": 13,
      "outputs": [
        {
          "output_type": "stream",
          "name": "stdout",
          "text": [
            "No data to report.\n"
          ]
        }
      ]
    },
    {
      "cell_type": "code",
      "source": [],
      "metadata": {
        "id": "093O4JKAb6xh"
      },
      "execution_count": null,
      "outputs": []
    }
  ]
}