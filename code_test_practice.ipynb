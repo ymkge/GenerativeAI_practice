{
  "nbformat": 4,
  "nbformat_minor": 0,
  "metadata": {
    "colab": {
      "provenance": [],
      "authorship_tag": "ABX9TyO33RPJwOVmixjePEfEItnM",
      "include_colab_link": true
    },
    "kernelspec": {
      "name": "python3",
      "display_name": "Python 3"
    },
    "language_info": {
      "name": "python"
    }
  },
  "cells": [
    {
      "cell_type": "markdown",
      "metadata": {
        "id": "view-in-github",
        "colab_type": "text"
      },
      "source": [
        "<a href=\"https://colab.research.google.com/github/ymkge/GenerativeAI_practice/blob/main/code_test_practice.ipynb\" target=\"_parent\"><img src=\"https://colab.research.google.com/assets/colab-badge.svg\" alt=\"Open In Colab\"/></a>"
      ]
    },
    {
      "cell_type": "code",
      "source": [
        "# @title 2つ以上の-を1つにまとめる処理\n",
        "import re\n",
        "\n",
        "base_word = input() # 入力文字\n",
        "print(re.sub(r\"--+\", \"-\", base_word))\n"
      ],
      "metadata": {
        "colab": {
          "base_uri": "https://localhost:8080/"
        },
        "id": "OvQ2VOxRJvP5",
        "outputId": "efcecfe5-fdad-4886-8b70-3248b1407e23"
      },
      "execution_count": null,
      "outputs": [
        {
          "output_type": "stream",
          "name": "stdout",
          "text": [
            "-------------aaa-------\n",
            "-aaa-\n"
          ]
        }
      ]
    },
    {
      "cell_type": "code",
      "source": [
        "# @title String to Integer (atoi)\n",
        "class Solution:\n",
        "    def myAtoi(self, s: str) -> int:\n",
        "        \"\"\"\n",
        "        converts a string to a 32-bit signed integer.\n",
        "        \"\"\"\n",
        "\n",
        "        s = s.lstrip()\n",
        "        sign = 1\n",
        "        if s and (s[0] == '-' or s[0] == '+'):\n",
        "            sign = -1 if s[0] == '-' else 1\n",
        "            s = s[1:] # remove sign character\n",
        "\n",
        "        result = 0\n",
        "        for char in s:\n",
        "            if not char.isdigit(): # conversion: stop at non-digit.\n",
        "                break\n",
        "            digit = int(char)\n",
        "\n",
        "            # 32-bit\n",
        "            if result > 214748364 or (result == 214748364 and digit > 7):\n",
        "                return 214748364 if sign == 1 else -214748364\n",
        "\n",
        "            result = result * 10 + digit\n",
        "\n",
        "        result *= sign # apply the sign\n",
        "\n",
        "        # rounding\n",
        "        if result > 214748364:\n",
        "            return 214748364\n",
        "        elif result < -214748364:\n",
        "            return -214748364\n",
        "        else:\n",
        "            return result\n",
        "\n"
      ],
      "metadata": {
        "id": "2l4lW0R0Jwp2"
      },
      "execution_count": null,
      "outputs": []
    },
    {
      "cell_type": "code",
      "source": [],
      "metadata": {
        "id": "f9Z9HOvQQc2A"
      },
      "execution_count": null,
      "outputs": []
    },
    {
      "cell_type": "code",
      "source": [],
      "metadata": {
        "id": "k1wxRXs2OmWk"
      },
      "execution_count": null,
      "outputs": []
    },
    {
      "cell_type": "code",
      "source": [
        "def romanToInt(self, s: str) -> int:\n",
        "  \"\"\"\n",
        "  ローマ字を数字に変換する処理\n",
        "\n",
        "  args:\n",
        "      Symbol(I, V, X, L, C, D, M)\n",
        "\n",
        "  return:\n",
        "      sum values\n",
        "  \"\"\"\n",
        "\n",
        "# 変換用リスト作成\n",
        "change_list = {\n",
        "    'I': '1',\n",
        "    'V': '5',\n",
        "    'X': '10',\n",
        "    'L': '50',\n",
        "    'C': '100',\n",
        "    'D': '500',\n",
        "    'M': '1000'\n",
        "}\n",
        "\n",
        "# ローマ字を入力\n",
        "s = input()\n",
        "\n",
        "# 入力ローマ字をリストに変換\n",
        "roma_list = []\n",
        "for i in s:\n",
        "    roma_list.append(i)\n",
        "print(roma_list)\n",
        "\n",
        "# ローマ字から数字に変換\n",
        "output_count = 0\n",
        "for i in roma_list:\n",
        "    output_count += int(change_list[i])\n",
        "print(output_count)"
      ],
      "metadata": {
        "colab": {
          "base_uri": "https://localhost:8080/"
        },
        "id": "Uw3ov0CHOmY2",
        "outputId": "4c368db1-3a91-4a97-bb61-1521c9d9b44b"
      },
      "execution_count": null,
      "outputs": [
        {
          "output_type": "stream",
          "name": "stdout",
          "text": [
            "MCMXCIV\n",
            "['M', 'C', 'M', 'X', 'C', 'I', 'V']\n",
            "2216\n"
          ]
        }
      ]
    },
    {
      "cell_type": "code",
      "source": [
        "def romanToInt(s: str) -> int:\n",
        "    \"\"\"\n",
        "    Converts a Roman numeral string to an integer.\n",
        "\n",
        "    Args:\n",
        "        s (str): The Roman numeral string.\n",
        "\n",
        "    Returns:\n",
        "        int: The integer value of the Roman numeral.\n",
        "    \"\"\"\n",
        "    roman_map = {\n",
        "        'I': 1,\n",
        "        'V': 5,\n",
        "        'X': 10,\n",
        "        'L': 50,\n",
        "        'C': 100,\n",
        "        'D': 500,\n",
        "        'M': 1000\n",
        "    }\n",
        "    result = 0\n",
        "    prev_value = 0\n",
        "\n",
        "    for i in range(len(s) - 1, -1, -1):  # Iterate from right to left\n",
        "        current_char = s[i]\n",
        "        print(current_char)\n",
        "        current_value = roman_map[current_char]\n",
        "        # print(current_value)\n",
        "\n",
        "        if current_value < prev_value:\n",
        "            result -= current_value  # Subtraction case\n",
        "            print(f'current_value:{current_value}, result:{result}')\n",
        "        else:\n",
        "            result += current_value  # Addition case\n",
        "            print(f'current_value:{current_value}, result:{result}')\n",
        "\n",
        "        prev_value = current_value\n",
        "\n",
        "    return result"
      ],
      "metadata": {
        "id": "cXs9ISZ-Oma7"
      },
      "execution_count": null,
      "outputs": []
    },
    {
      "cell_type": "code",
      "source": [
        "romanToInt(input())"
      ],
      "metadata": {
        "colab": {
          "base_uri": "https://localhost:8080/"
        },
        "id": "Xt9UTkw4RvE0",
        "outputId": "22dc068b-cfb1-4092-b1cc-901a8b3d689b"
      },
      "execution_count": null,
      "outputs": [
        {
          "output_type": "stream",
          "name": "stdout",
          "text": [
            "MCMXCIV\n",
            "V\n",
            "current_value:5, result:5\n",
            "I\n",
            "current_value:1, result:4\n",
            "C\n",
            "current_value:100, result:104\n",
            "X\n",
            "current_value:10, result:94\n",
            "M\n",
            "current_value:1000, result:1094\n",
            "C\n",
            "current_value:100, result:994\n",
            "M\n",
            "current_value:1000, result:1994\n"
          ]
        },
        {
          "output_type": "execute_result",
          "data": {
            "text/plain": [
              "1994"
            ]
          },
          "metadata": {},
          "execution_count": 29
        }
      ]
    },
    {
      "cell_type": "code",
      "source": [
        "\n",
        "def longestCommonPrefix(self, strs: list[str]) -> str:\n",
        "\n",
        "    # 文字列の配列を辞書順にソートします。\n",
        "    # ソートすることで、最も異なる可能性のある文字列（先頭と末尾）だけを比較すれば\n",
        "    # 全ての文字列の共通接頭辞を見つけることができます。\n",
        "    strs.sort()\n",
        "\n",
        "    # ソートされた配列の最初の文字列と最後の文字列を取得します。\n",
        "    first_str = strs[0]\n",
        "    last_str = strs[-1]\n",
        "\n",
        "    # 共通接頭辞の長さを保持する変数です。\n",
        "    common_prefix_length = 0\n",
        "\n",
        "    # 最初の文字列と最後の文字列を、先頭から1文字ずつ比較していきます。\n",
        "    # 比較は、どちらかの文字列の長さが尽きるまで、または文字が一致しなくなるまで続けます。\n",
        "    for i in range(min(len(first_str), len(last_str))):\n",
        "        # 現在のインデックスの文字が一致する場合、共通接頭辞はまだ伸びています。\n",
        "        if first_str[i] == last_str[i]:\n",
        "            common_prefix_length += 1\n",
        "        # 文字が一致しなくなった場合、これ以上共通接頭辞は伸びないので、ループを終了します。\n",
        "        else:\n",
        "            break\n",
        "\n",
        "    # 最初の文字列から、計算された共通接頭辞の長さ分の部分文字列を返します。\n",
        "    # これが、すべての文字列に共通する最長接頭辞です。\n",
        "    return first_str[:common_prefix_length]"
      ],
      "metadata": {
        "id": "8pSA3tP-Ryvj"
      },
      "execution_count": null,
      "outputs": []
    },
    {
      "cell_type": "code",
      "source": [],
      "metadata": {
        "id": "F1gai3NwPZ3B"
      },
      "execution_count": null,
      "outputs": []
    },
    {
      "cell_type": "code",
      "source": [
        "class Solution:\n",
        "    def isValid(self, s: str) -> bool:\n",
        "        stack = []\n",
        "        mapping = {\")\":\"(\", \"}\":\"{\", \"]\":\"[\"}\n",
        "\n",
        "        for char in s:\n",
        "            if char in mapping.values():\n",
        "                stack.append(char)\n",
        "            elif char in mapping.keys():\n",
        "                if not stack or mapping[char] != stack.pop():\n",
        "                    return False\n",
        "\n",
        "        return not stack"
      ],
      "metadata": {
        "id": "laIAU15sPZ8f"
      },
      "execution_count": null,
      "outputs": []
    },
    {
      "cell_type": "code",
      "source": [],
      "metadata": {
        "id": "eNowdNKdYNYa"
      },
      "execution_count": null,
      "outputs": []
    },
    {
      "cell_type": "code",
      "source": [],
      "metadata": {
        "id": "DITMtXXHYNaq"
      },
      "execution_count": null,
      "outputs": []
    }
  ]
}