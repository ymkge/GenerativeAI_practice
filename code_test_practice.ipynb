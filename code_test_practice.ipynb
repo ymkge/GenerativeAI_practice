{
  "nbformat": 4,
  "nbformat_minor": 0,
  "metadata": {
    "colab": {
      "provenance": [],
      "authorship_tag": "ABX9TyM92AHpprxmfVmHx46kRH8G",
      "include_colab_link": true
    },
    "kernelspec": {
      "name": "python3",
      "display_name": "Python 3"
    },
    "language_info": {
      "name": "python"
    }
  },
  "cells": [
    {
      "cell_type": "markdown",
      "metadata": {
        "id": "view-in-github",
        "colab_type": "text"
      },
      "source": [
        "<a href=\"https://colab.research.google.com/github/ymkge/GenerativeAI_practice/blob/main/code_test_practice.ipynb\" target=\"_parent\"><img src=\"https://colab.research.google.com/assets/colab-badge.svg\" alt=\"Open In Colab\"/></a>"
      ]
    },
    {
      "cell_type": "code",
      "source": [
        "# @title 2つ以上の-を1つにまとめる処理\n",
        "import re\n",
        "\n",
        "base_word = input() # 入力文字\n",
        "print(re.sub(r\"--+\", \"-\", base_word))\n"
      ],
      "metadata": {
        "colab": {
          "base_uri": "https://localhost:8080/"
        },
        "id": "OvQ2VOxRJvP5",
        "outputId": "efcecfe5-fdad-4886-8b70-3248b1407e23"
      },
      "execution_count": null,
      "outputs": [
        {
          "output_type": "stream",
          "name": "stdout",
          "text": [
            "-------------aaa-------\n",
            "-aaa-\n"
          ]
        }
      ]
    },
    {
      "cell_type": "code",
      "source": [
        "# @title String to Integer (atoi)\n",
        "class Solution:\n",
        "    def myAtoi(self, s: str) -> int:\n",
        "        \"\"\"\n",
        "        converts a string to a 32-bit signed integer.\n",
        "        \"\"\"\n",
        "\n",
        "        s = s.lstrip()\n",
        "        sign = 1\n",
        "        if s and (s[0] == '-' or s[0] == '+'):\n",
        "            sign = -1 if s[0] == '-' else 1\n",
        "            s = s[1:] # remove sign character\n",
        "\n",
        "        result = 0\n",
        "        for char in s:\n",
        "            if not char.isdigit(): # conversion: stop at non-digit.\n",
        "                break\n",
        "            digit = int(char)\n",
        "\n",
        "            # 32-bit\n",
        "            if result > 214748364 or (result == 214748364 and digit > 7):\n",
        "                return 214748364 if sign == 1 else -214748364\n",
        "\n",
        "            result = result * 10 + digit\n",
        "\n",
        "        result *= sign # apply the sign\n",
        "\n",
        "        # rounding\n",
        "        if result > 214748364:\n",
        "            return 214748364\n",
        "        elif result < -214748364:\n",
        "            return -214748364\n",
        "        else:\n",
        "            return result\n",
        "\n"
      ],
      "metadata": {
        "id": "2l4lW0R0Jwp2"
      },
      "execution_count": null,
      "outputs": []
    },
    {
      "cell_type": "code",
      "source": [],
      "metadata": {
        "id": "f9Z9HOvQQc2A"
      },
      "execution_count": null,
      "outputs": []
    },
    {
      "cell_type": "code",
      "source": [],
      "metadata": {
        "id": "k1wxRXs2OmWk"
      },
      "execution_count": null,
      "outputs": []
    },
    {
      "cell_type": "code",
      "source": [
        "def romanToInt(self, s: str) -> int:\n",
        "  \"\"\"\n",
        "  ローマ字を数字に変換する処理\n",
        "\n",
        "  args:\n",
        "      Symbol(I, V, X, L, C, D, M)\n",
        "\n",
        "  return:\n",
        "      sum values\n",
        "  \"\"\"\n",
        "\n",
        "# 変換用リスト作成\n",
        "change_list = {\n",
        "    'I': '1',\n",
        "    'V': '5',\n",
        "    'X': '10',\n",
        "    'L': '50',\n",
        "    'C': '100',\n",
        "    'D': '500',\n",
        "    'M': '1000'\n",
        "}\n",
        "\n",
        "# ローマ字を入力\n",
        "s = input()\n",
        "\n",
        "# 入力ローマ字をリストに変換\n",
        "roma_list = []\n",
        "for i in s:\n",
        "    roma_list.append(i)\n",
        "print(roma_list)\n",
        "\n",
        "# ローマ字から数字に変換\n",
        "output_count = 0\n",
        "for i in roma_list:\n",
        "    output_count += int(change_list[i])\n",
        "print(output_count)"
      ],
      "metadata": {
        "colab": {
          "base_uri": "https://localhost:8080/"
        },
        "id": "Uw3ov0CHOmY2",
        "outputId": "4c368db1-3a91-4a97-bb61-1521c9d9b44b"
      },
      "execution_count": null,
      "outputs": [
        {
          "output_type": "stream",
          "name": "stdout",
          "text": [
            "MCMXCIV\n",
            "['M', 'C', 'M', 'X', 'C', 'I', 'V']\n",
            "2216\n"
          ]
        }
      ]
    },
    {
      "cell_type": "code",
      "source": [
        "def romanToInt(s: str) -> int:\n",
        "    \"\"\"\n",
        "    Converts a Roman numeral string to an integer.\n",
        "\n",
        "    Args:\n",
        "        s (str): The Roman numeral string.\n",
        "\n",
        "    Returns:\n",
        "        int: The integer value of the Roman numeral.\n",
        "    \"\"\"\n",
        "    roman_map = {\n",
        "        'I': 1,\n",
        "        'V': 5,\n",
        "        'X': 10,\n",
        "        'L': 50,\n",
        "        'C': 100,\n",
        "        'D': 500,\n",
        "        'M': 1000\n",
        "    }\n",
        "    result = 0\n",
        "    prev_value = 0\n",
        "\n",
        "    for i in range(len(s) - 1, -1, -1):  # Iterate from right to left\n",
        "        current_char = s[i]\n",
        "        print(current_char)\n",
        "        current_value = roman_map[current_char]\n",
        "        # print(current_value)\n",
        "\n",
        "        if current_value < prev_value:\n",
        "            result -= current_value  # Subtraction case\n",
        "            print(f'current_value:{current_value}, result:{result}')\n",
        "        else:\n",
        "            result += current_value  # Addition case\n",
        "            print(f'current_value:{current_value}, result:{result}')\n",
        "\n",
        "        prev_value = current_value\n",
        "\n",
        "    return result"
      ],
      "metadata": {
        "id": "cXs9ISZ-Oma7"
      },
      "execution_count": null,
      "outputs": []
    },
    {
      "cell_type": "code",
      "source": [
        "romanToInt(input())"
      ],
      "metadata": {
        "colab": {
          "base_uri": "https://localhost:8080/"
        },
        "id": "Xt9UTkw4RvE0",
        "outputId": "22dc068b-cfb1-4092-b1cc-901a8b3d689b"
      },
      "execution_count": null,
      "outputs": [
        {
          "output_type": "stream",
          "name": "stdout",
          "text": [
            "MCMXCIV\n",
            "V\n",
            "current_value:5, result:5\n",
            "I\n",
            "current_value:1, result:4\n",
            "C\n",
            "current_value:100, result:104\n",
            "X\n",
            "current_value:10, result:94\n",
            "M\n",
            "current_value:1000, result:1094\n",
            "C\n",
            "current_value:100, result:994\n",
            "M\n",
            "current_value:1000, result:1994\n"
          ]
        },
        {
          "output_type": "execute_result",
          "data": {
            "text/plain": [
              "1994"
            ]
          },
          "metadata": {},
          "execution_count": 29
        }
      ]
    },
    {
      "cell_type": "code",
      "source": [
        "\n",
        "def longestCommonPrefix(self, strs: list[str]) -> str:\n",
        "\n",
        "    # 文字列の配列を辞書順にソートします。\n",
        "    # ソートすることで、最も異なる可能性のある文字列（先頭と末尾）だけを比較すれば\n",
        "    # 全ての文字列の共通接頭辞を見つけることができます。\n",
        "    strs.sort()\n",
        "\n",
        "    # ソートされた配列の最初の文字列と最後の文字列を取得します。\n",
        "    first_str = strs[0]\n",
        "    last_str = strs[-1]\n",
        "\n",
        "    # 共通接頭辞の長さを保持する変数です。\n",
        "    common_prefix_length = 0\n",
        "\n",
        "    # 最初の文字列と最後の文字列を、先頭から1文字ずつ比較していきます。\n",
        "    # 比較は、どちらかの文字列の長さが尽きるまで、または文字が一致しなくなるまで続けます。\n",
        "    for i in range(min(len(first_str), len(last_str))):\n",
        "        # 現在のインデックスの文字が一致する場合、共通接頭辞はまだ伸びています。\n",
        "        if first_str[i] == last_str[i]:\n",
        "            common_prefix_length += 1\n",
        "        # 文字が一致しなくなった場合、これ以上共通接頭辞は伸びないので、ループを終了します。\n",
        "        else:\n",
        "            break\n",
        "\n",
        "    # 最初の文字列から、計算された共通接頭辞の長さ分の部分文字列を返します。\n",
        "    # これが、すべての文字列に共通する最長接頭辞です。\n",
        "    return first_str[:common_prefix_length]"
      ],
      "metadata": {
        "id": "8pSA3tP-Ryvj"
      },
      "execution_count": null,
      "outputs": []
    },
    {
      "cell_type": "code",
      "source": [],
      "metadata": {
        "id": "F1gai3NwPZ3B"
      },
      "execution_count": null,
      "outputs": []
    },
    {
      "cell_type": "code",
      "source": [
        "class Solution:\n",
        "    def isValid(self, s: str) -> bool:\n",
        "        stack = []\n",
        "        mapping = {\")\":\"(\", \"}\":\"{\", \"]\":\"[\"}\n",
        "\n",
        "        for char in s:\n",
        "            if char in mapping.values():\n",
        "                stack.append(char)\n",
        "            elif char in mapping.keys():\n",
        "                if not stack or mapping[char] != stack.pop():\n",
        "                    return False\n",
        "\n",
        "        return not stack"
      ],
      "metadata": {
        "id": "laIAU15sPZ8f"
      },
      "execution_count": null,
      "outputs": []
    },
    {
      "cell_type": "code",
      "source": [],
      "metadata": {
        "id": "eNowdNKdYNYa"
      },
      "execution_count": null,
      "outputs": []
    },
    {
      "cell_type": "code",
      "source": [
        "# 入力例1\n",
        "# ///+////\n",
        "# 出力例1\n",
        "# 7\n",
        "# 入力例2\n",
        "# <///////+<<</+////\n",
        "# 出力例2\n",
        "# 52\n",
        "# 入力例3\n",
        "# <<<<<<<<</////////+<<<<<<<<</////////\n",
        "# 出力例3\n",
        "# 198\n",
        "\n",
        "import sys\n",
        "\n",
        "# 変換用の辞書\n",
        "dic = {\n",
        "    '/': 1,\n",
        "    '<': 10,\n",
        "}\n",
        "\n",
        "# 標準入力から文字列を読み込む\n",
        "e = sys.stdin.readline().strip()\n",
        "\n",
        "# 文字列を '+' で分割し、各セグメントの合計値を格納するリスト\n",
        "seg_sums = []\n",
        "\n",
        "# '+' で文字列を分割\n",
        "segments = e.split('+')\n",
        "\n",
        "# 各セグメント処理\n",
        "for segment in segments:\n",
        "    current_segment_total = 0\n",
        "    # セグメント内の文字処理\n",
        "    for char in segment:\n",
        "        # 辞書にキーが存在するか確認し、あれば値を追加。なければスキップ\n",
        "        if char in dic:\n",
        "            current_segment_total += dic[char]\n",
        "    seg_sums.append(current_segment_total)\n",
        "\n",
        "# 全てのセグメントの合計値を足し合わせる\n",
        "total = sum(seg_sums)\n",
        "\n",
        "print(total)"
      ],
      "metadata": {
        "id": "DITMtXXHYNaq",
        "colab": {
          "base_uri": "https://localhost:8080/"
        },
        "outputId": "ae3cf65b-ed0a-419a-aeed-38b0adbf45ee"
      },
      "execution_count": null,
      "outputs": [
        {
          "output_type": "stream",
          "name": "stdout",
          "text": [
            "\n",
            "0\n"
          ]
        }
      ]
    },
    {
      "cell_type": "code",
      "source": [],
      "metadata": {
        "id": "Xc5bp6W2VtQi"
      },
      "execution_count": null,
      "outputs": []
    },
    {
      "cell_type": "code",
      "source": [
        "# 入力例1\n",
        "# abcdEFGHijklMNOPqrstUVWXyz\n",
        "# PAIZA\n",
        "# 出力例1\n",
        "# Paiza\n",
        "\n",
        "# 入力例2\n",
        "# aBcDeFgHiJkLmNoPqRsTuVwXyZ\n",
        "# Katayama\n",
        "# 出力例2\n",
        "# kaTayama\n",
        "\n",
        "def solve_with_input():\n",
        "    # 1行目の入力はルール文字列\n",
        "    rule_string = input('ルールの文字列を入力してください:')\n",
        "    # rule_string = sys.stdin.readline().strip() --> 処理が高速(競技プログラミング用)\n",
        "\n",
        "    # 2行目の入力はターゲット文字列\n",
        "    target_string = input('変換する文字列を入力してください:')\n",
        "    # target_string = sys.stdin.readline().strip() --> 処理が高速(競技プログラミング用)\n",
        "\n",
        "    result_chars = [] # 変換後の文字を格納するリスト\n",
        "\n",
        "    # ターゲット文字列の各文字を順番に処理\n",
        "    for char in target_string:\n",
        "        # 文字がアルファベットであるかチェック (小文字にしても 'a' から 'z' の範囲内か)\n",
        "        if 'a' <= char.lower() <= 'z':\n",
        "            # ターゲット文字の小文字表現を取得し、'a'を基準としたインデックスを計算\n",
        "            index = ord(char.lower()) - ord('a')\n",
        "\n",
        "            # ルール文字列から、このインデックスに対応するルール文字を取得\n",
        "            rule_char = rule_string[index]\n",
        "\n",
        "            # ルール文字のケースに従って、ターゲット文字を変換\n",
        "            if rule_char.isupper():\n",
        "                # ルール文字が大文字なら、ターゲット文字も大文字にする\n",
        "                result_chars.append(char.upper())\n",
        "            else: # rule_char.islower()\n",
        "                # ルール文字が小文字なら、ターゲット文字も小文字にする\n",
        "                result_chars.append(char.lower())\n",
        "        else:\n",
        "            # アルファベットでない場合は、そのまま結果に追加\n",
        "            result_chars.append(char)\n",
        "\n",
        "    # リストの文字を結合して一つの文字列として出力\n",
        "    print(\"\".join(result_chars))\n",
        "\n",
        "# プログラムを実行\n",
        "if __name__ == '__main__':\n",
        "    solve_with_input() # input() を使った関数を呼び出す"
      ],
      "metadata": {
        "colab": {
          "base_uri": "https://localhost:8080/"
        },
        "id": "VH_zAUi2VtXR",
        "outputId": "5adfafd7-ef70-424f-b477-55882ee34d11"
      },
      "execution_count": null,
      "outputs": [
        {
          "output_type": "stream",
          "name": "stdout",
          "text": [
            "ルールの文字列を入力してください:aBcDeFgHiJkLmNoPqRsTuVwXyZ\n",
            "変換する文字列を入力してください:toro\n",
            "ToRo\n"
          ]
        }
      ]
    },
    {
      "cell_type": "code",
      "source": [],
      "metadata": {
        "id": "K07p_5lYVta8"
      },
      "execution_count": null,
      "outputs": []
    },
    {
      "cell_type": "code",
      "source": [
        "# 入力例1\n",
        "# 3 10\n",
        "# 0 0\n",
        "# 2 3\n",
        "# 9 4\n",
        "# 5 4\n",
        "\n",
        "# 出力例1\n",
        "# 2\n",
        "\n",
        "# 入力例2\n",
        "# 5 20\n",
        "# 3 5\n",
        "# 1 2\n",
        "# -10 5\n",
        "# 8 9\n",
        "# -13 -15\n",
        "# 10 10\n",
        "\n",
        "# 出力例2\n",
        "# 4\n",
        "\n",
        "\n",
        "# 入力は以下のフォーマットで与えられます。\n",
        "\n",
        "# N D\n",
        "# X Y\n",
        "# x_1 y_1\n",
        "# x_2 y_2\n",
        "# ...\n",
        "# x_N y_N\n",
        "# ・1 行目に 家の数を表す整数 N とご挨拶に伺う範囲の距離 D が半角スペース区切りで与えられます。\n",
        "# ・続く 2 行目に PAIZA さんの家の座標 X, Y が半角スペース区切りで与えられます。\n",
        "# ・続く 3 行目から N+3 行目にわたって、町に建っている家の座標 x_i, y_i (1 ≦ i ≦ N) が半角スペース区切りで与えられます。\n",
        "# ・入力は合計で N+3 行となり、末尾に改行が 1 つ入ります。\n",
        "\n",
        "\n",
        "import sys\n",
        "\n",
        "# N, D = map(int, sys.stdin.readline().split()) # 家の数N, 訪問する距離:D\n",
        "N, D = map(int, input('家の数:N　と 訪問する距離:Dを入力してね').split()) # 家の数N, 訪問する距離:D\n",
        "\n",
        "# my_x, my_y = map(int, sys.stdin.readline().split()) # 自分の家の座標X, Y\n",
        "my_x, my_y = map(int, input('あなたの家のx座標とy座標を入力してね').split()) # 自分の家の座標X, Y\n",
        "\n",
        "greeting_count = 0 # 訪問先の数\n",
        "\n",
        "# 各家との座標距離を算出\n",
        "for _ in range(N):\n",
        "    # now_house_x, now_house_y = map(int, sys.stdin.readline().split())\n",
        "    now_house_x, now_house_y = map(int, input().split())\n",
        "\n",
        "    distance = abs(my_x - now_house_x) + abs(my_y - now_house_y)\n",
        "\n",
        "    if distance <= D:\n",
        "        greeting_count += 1\n",
        "print(f'訪問する家は{greeting_count}件です')\n",
        "\n"
      ],
      "metadata": {
        "colab": {
          "base_uri": "https://localhost:8080/"
        },
        "id": "abkRRo49ZqxZ",
        "outputId": "dbd258bb-fd7d-46c1-fddf-9791547d691f"
      },
      "execution_count": null,
      "outputs": [
        {
          "output_type": "stream",
          "name": "stdout",
          "text": [
            "家の数:N　と 訪問する距離:Dを入力してね3 10\n",
            "あなたの家のx座標とy座標を入力してね0 0\n",
            "4 3\n",
            "9 10\n",
            "1 5\n",
            "訪問する家は2件です\n"
          ]
        }
      ]
    },
    {
      "cell_type": "code",
      "source": [
        "\n",
        "x = input()\n",
        "\n",
        "dial_distance = {\n",
        "    '0': 12,\n",
        "    '1': 3,\n",
        "    '2': 4,\n",
        "    '3': 5,\n",
        "    '4': 6,\n",
        "    '5': 7,\n",
        "    '6': 8,\n",
        "    '7': 9,\n",
        "    '8': 10,\n",
        "    '9': 11\n",
        "}\n",
        "\n",
        "\n",
        "total_distance = 0\n",
        "for char in x:\n",
        "    if char.isdigit(): # 数字以外は読み飛ばす\n",
        "        total_distance += dial_distance[char] * 2\n",
        "\n",
        "print(total_distance)\n"
      ],
      "metadata": {
        "colab": {
          "base_uri": "https://localhost:8080/"
        },
        "id": "WDvYrKUzNLJk",
        "outputId": "1426c1b6-2491-473e-fdbc-57b57d51d9c9"
      },
      "execution_count": null,
      "outputs": [
        {
          "output_type": "stream",
          "name": "stdout",
          "text": [
            "080-3532-9987\n",
            "192\n"
          ]
        }
      ]
    },
    {
      "cell_type": "code",
      "source": [
        "# ユーザーからサイコロの目を入力として受け取る\n",
        "# input() で文字列として受け取り、int() で整数に変換する\n",
        "n = int(input())\n",
        "\n",
        "# 裏側の目を計算する\n",
        "# 裏側の目 = 7 - 現在の目\n",
        "opposite_side = 7 - n\n",
        "\n",
        "# 計算結果を出力する\n",
        "print(opposite_side)\n"
      ],
      "metadata": {
        "id": "YjJaybGoNLL3",
        "outputId": "25aed5c8-725f-4446-ae74-1c4427afc596",
        "colab": {
          "base_uri": "https://localhost:8080/"
        }
      },
      "execution_count": null,
      "outputs": [
        {
          "output_type": "stream",
          "name": "stdout",
          "text": [
            "3\n",
            "4\n"
          ]
        }
      ]
    },
    {
      "cell_type": "code",
      "source": [],
      "metadata": {
        "id": "Iyrc9_TJQJhu"
      },
      "execution_count": null,
      "outputs": []
    },
    {
      "cell_type": "code",
      "source": [
        "# N\n",
        "# G\n",
        "# S_1\n",
        "# ...\n",
        "# S_N\n",
        "\n",
        "\n",
        "N = int(input()) # N:処理数\n",
        "G = input() # G:抽出対象文字列\n",
        "\n",
        "log = []\n",
        "for _ in range(N):\n",
        "    S = input() # 検索対象文字列\n",
        "    if G in S:\n",
        "        log.append(S)\n",
        "\n",
        "if log:\n",
        "    for x in log:\n",
        "        print(x)\n",
        "else:\n",
        "    print(\"None\")"
      ],
      "metadata": {
        "colab": {
          "base_uri": "https://localhost:8080/"
        },
        "id": "H-jA6pL7QJkC",
        "outputId": "88d0d34b-c747-4595-eedd-37107001814c"
      },
      "execution_count": null,
      "outputs": [
        {
          "output_type": "stream",
          "name": "stdout",
          "text": [
            "3\n",
            "ai\n",
            "paiza\n",
            "ai-cd\n",
            "piiza\n",
            "paiza\n",
            "ai-cd\n"
          ]
        }
      ]
    },
    {
      "cell_type": "code",
      "source": [],
      "metadata": {
        "id": "kROj5PdLQKcY"
      },
      "execution_count": null,
      "outputs": []
    },
    {
      "cell_type": "code",
      "source": [
        "# 入力例1\n",
        "# 5\n",
        "# paiza\n",
        "# 2\n",
        "# 出力例1\n",
        "# pa\n",
        "# 入力例2\n",
        "# 7\n",
        "# program\n",
        "# 7\n",
        "# 出力例2\n",
        "# program\n",
        "\n",
        "L = int(input())\n",
        "M = input()\n",
        "N = int(input())\n",
        "\n",
        "print(M[:N])\n"
      ],
      "metadata": {
        "id": "p2SqEapcQKfd",
        "colab": {
          "base_uri": "https://localhost:8080/"
        },
        "outputId": "3ac1b4d3-a793-42d7-eb9f-5a1df9e5fa7e"
      },
      "execution_count": null,
      "outputs": [
        {
          "output_type": "stream",
          "name": "stdout",
          "text": [
            "7\n",
            "proglam\n",
            "3\n",
            "pro\n"
          ]
        }
      ]
    },
    {
      "cell_type": "code",
      "source": [
        "M = 'xyz123456'\n",
        "\n",
        "print(M[:3])\n",
        "print(M[:4])\n",
        "print(M[:5])\n",
        "print(M[:6])\n",
        "print(M[:7])"
      ],
      "metadata": {
        "colab": {
          "base_uri": "https://localhost:8080/"
        },
        "id": "uxK71cJK4TFE",
        "outputId": "00c0e6f9-b52b-4df5-e86a-674b040fabdc"
      },
      "execution_count": null,
      "outputs": [
        {
          "output_type": "stream",
          "name": "stdout",
          "text": [
            "xyz\n",
            "xyz1\n",
            "xyz12\n",
            "xyz123\n",
            "xyz1234\n"
          ]
        }
      ]
    },
    {
      "cell_type": "code",
      "source": [],
      "metadata": {
        "id": "RsD9gq2kw8sd"
      },
      "execution_count": null,
      "outputs": []
    },
    {
      "cell_type": "code",
      "source": [
        "入力は以下のフォーマットで与えられます。\n",
        "\n",
        "N M\n",
        "a_1 b_1\n",
        "a_2 b_2\n",
        "...\n",
        "a_N b_N\n",
        "・1 行目に学生の人数を表す整数 N と合格点を表す整数 M が半角スペース区切りで与えられます。\n",
        "・続く N 行のうち i 行目 (1 ≦ i ≦ N ) には学籍番号 i の学生のテストの点数を表す整数 a_i、欠席回数を表す整数 b_i が半角スペース区切りで与えられます。\n",
        "・入力は合計で N + 1 行であり、入力値最終行の末尾に改行が 1 つ入ります。"
      ],
      "metadata": {
        "id": "XRk91gwfw8v1"
      },
      "execution_count": null,
      "outputs": []
    },
    {
      "cell_type": "code",
      "source": [],
      "metadata": {
        "id": "omYTxvjiw8ys"
      },
      "execution_count": null,
      "outputs": []
    },
    {
      "cell_type": "code",
      "source": [
        "parent_a, parent_b = map(int, input().split())\n",
        "\n",
        "n = int(input())\n",
        "\n",
        "for _ in range(n):\n",
        "    child_a, child_b = map(int, input().split())\n",
        "\n",
        "    if parent_a > child_a:\n",
        "        print(\"High\")\n",
        "    elif parent_a < child_a:\n",
        "        print(\"Low\")\n",
        "    else:\n",
        "        if parent_b < child_b:\n",
        "            print(\"High\")\n",
        "        else:\n",
        "            print(\"Low\")"
      ],
      "metadata": {
        "id": "3VqlH9h69Eln",
        "outputId": "faa7c922-a825-438a-a557-3d06d97fd239",
        "colab": {
          "base_uri": "https://localhost:8080/",
          "height": 238
        }
      },
      "execution_count": null,
      "outputs": [
        {
          "name": "stdout",
          "output_type": "stream",
          "text": [
            "5\n"
          ]
        },
        {
          "output_type": "error",
          "ename": "ValueError",
          "evalue": "not enough values to unpack (expected 2, got 1)",
          "traceback": [
            "\u001b[0;31m---------------------------------------------------------------------------\u001b[0m",
            "\u001b[0;31mValueError\u001b[0m                                Traceback (most recent call last)",
            "\u001b[0;32m<ipython-input-1-06092d497a5d>\u001b[0m in \u001b[0;36m<cell line: 0>\u001b[0;34m()\u001b[0m\n\u001b[0;32m----> 1\u001b[0;31m \u001b[0mparent_a\u001b[0m\u001b[0;34m,\u001b[0m \u001b[0mparent_b\u001b[0m \u001b[0;34m=\u001b[0m \u001b[0mmap\u001b[0m\u001b[0;34m(\u001b[0m\u001b[0mint\u001b[0m\u001b[0;34m,\u001b[0m \u001b[0minput\u001b[0m\u001b[0;34m(\u001b[0m\u001b[0;34m)\u001b[0m\u001b[0;34m.\u001b[0m\u001b[0msplit\u001b[0m\u001b[0;34m(\u001b[0m\u001b[0;34m)\u001b[0m\u001b[0;34m)\u001b[0m\u001b[0;34m\u001b[0m\u001b[0;34m\u001b[0m\u001b[0m\n\u001b[0m\u001b[1;32m      2\u001b[0m \u001b[0;34m\u001b[0m\u001b[0m\n\u001b[1;32m      3\u001b[0m \u001b[0mn\u001b[0m \u001b[0;34m=\u001b[0m \u001b[0mint\u001b[0m\u001b[0;34m(\u001b[0m\u001b[0minput\u001b[0m\u001b[0;34m(\u001b[0m\u001b[0;34m)\u001b[0m\u001b[0;34m)\u001b[0m\u001b[0;34m\u001b[0m\u001b[0;34m\u001b[0m\u001b[0m\n\u001b[1;32m      4\u001b[0m \u001b[0;34m\u001b[0m\u001b[0m\n\u001b[1;32m      5\u001b[0m \u001b[0;32mfor\u001b[0m \u001b[0m_\u001b[0m \u001b[0;32min\u001b[0m \u001b[0mrange\u001b[0m\u001b[0;34m(\u001b[0m\u001b[0mn\u001b[0m\u001b[0;34m)\u001b[0m\u001b[0;34m:\u001b[0m\u001b[0;34m\u001b[0m\u001b[0;34m\u001b[0m\u001b[0m\n",
            "\u001b[0;31mValueError\u001b[0m: not enough values to unpack (expected 2, got 1)"
          ]
        }
      ]
    },
    {
      "cell_type": "code",
      "source": [
        "import sys\n",
        "\n",
        "def solve():\n",
        "    # n (箱の数) と r (ボールの半径) を読み込む\n",
        "    line1 = sys.stdin.readline().split()\n",
        "    n = int(line1[0])\n",
        "    r = int(line1[1])\n",
        "\n",
        "    # ボールの直径を計算\n",
        "    ball_diameter = 2 * r\n",
        "\n",
        "    # ボールを収納できる箱の番号を格納するリスト\n",
        "    fittable_boxes = []\n",
        "\n",
        "    # 各箱の情報を読み込み、収納可能か判定\n",
        "    for i in range(1, n + 1):\n",
        "        h_w_d = list(map(int, sys.stdin.readline().split()))\n",
        "        h = h_w_d[0]\n",
        "        w = h_w_d[1]\n",
        "        d = h_w_d[2]\n",
        "\n",
        "        # 箱の高さ、幅、奥行きの最小値を求める\n",
        "        min_dimension = min(h, w, d)\n",
        "\n",
        "        # ボールの直径が最小の辺の長さ以下であれば収納可能\n",
        "        if ball_diameter <= min_dimension:\n",
        "            fittable_boxes.append(i)\n",
        "\n",
        "    # 収納可能な箱の番号を昇順に出力\n",
        "    for box_num in fittable_boxes:\n",
        "        sys.stdout.write(str(box_num) + '\\n')\n",
        "\n",
        "solve()"
      ],
      "metadata": {
        "id": "o6kpIsdf9FSR",
        "outputId": "03c2b398-a4f4-41bd-8004-ffcd918b2dcd",
        "colab": {
          "base_uri": "https://localhost:8080/",
          "height": 311
        }
      },
      "execution_count": 1,
      "outputs": [
        {
          "output_type": "error",
          "ename": "IndexError",
          "evalue": "list index out of range",
          "traceback": [
            "\u001b[0;31m---------------------------------------------------------------------------\u001b[0m",
            "\u001b[0;31mIndexError\u001b[0m                                Traceback (most recent call last)",
            "\u001b[0;32m<ipython-input-1-c3178d96b7dd>\u001b[0m in \u001b[0;36m<cell line: 0>\u001b[0;34m()\u001b[0m\n\u001b[1;32m     31\u001b[0m         \u001b[0msys\u001b[0m\u001b[0;34m.\u001b[0m\u001b[0mstdout\u001b[0m\u001b[0;34m.\u001b[0m\u001b[0mwrite\u001b[0m\u001b[0;34m(\u001b[0m\u001b[0mstr\u001b[0m\u001b[0;34m(\u001b[0m\u001b[0mbox_num\u001b[0m\u001b[0;34m)\u001b[0m \u001b[0;34m+\u001b[0m \u001b[0;34m'\\n'\u001b[0m\u001b[0;34m)\u001b[0m\u001b[0;34m\u001b[0m\u001b[0;34m\u001b[0m\u001b[0m\n\u001b[1;32m     32\u001b[0m \u001b[0;34m\u001b[0m\u001b[0m\n\u001b[0;32m---> 33\u001b[0;31m \u001b[0msolve\u001b[0m\u001b[0;34m(\u001b[0m\u001b[0;34m)\u001b[0m\u001b[0;34m\u001b[0m\u001b[0;34m\u001b[0m\u001b[0m\n\u001b[0m",
            "\u001b[0;32m<ipython-input-1-c3178d96b7dd>\u001b[0m in \u001b[0;36msolve\u001b[0;34m()\u001b[0m\n\u001b[1;32m      4\u001b[0m     \u001b[0;31m# n (箱の数) と r (ボールの半径) を読み込む\u001b[0m\u001b[0;34m\u001b[0m\u001b[0;34m\u001b[0m\u001b[0m\n\u001b[1;32m      5\u001b[0m     \u001b[0mline1\u001b[0m \u001b[0;34m=\u001b[0m \u001b[0msys\u001b[0m\u001b[0;34m.\u001b[0m\u001b[0mstdin\u001b[0m\u001b[0;34m.\u001b[0m\u001b[0mreadline\u001b[0m\u001b[0;34m(\u001b[0m\u001b[0;34m)\u001b[0m\u001b[0;34m.\u001b[0m\u001b[0msplit\u001b[0m\u001b[0;34m(\u001b[0m\u001b[0;34m)\u001b[0m\u001b[0;34m\u001b[0m\u001b[0;34m\u001b[0m\u001b[0m\n\u001b[0;32m----> 6\u001b[0;31m     \u001b[0mn\u001b[0m \u001b[0;34m=\u001b[0m \u001b[0mint\u001b[0m\u001b[0;34m(\u001b[0m\u001b[0mline1\u001b[0m\u001b[0;34m[\u001b[0m\u001b[0;36m0\u001b[0m\u001b[0;34m]\u001b[0m\u001b[0;34m)\u001b[0m\u001b[0;34m\u001b[0m\u001b[0;34m\u001b[0m\u001b[0m\n\u001b[0m\u001b[1;32m      7\u001b[0m     \u001b[0mr\u001b[0m \u001b[0;34m=\u001b[0m \u001b[0mint\u001b[0m\u001b[0;34m(\u001b[0m\u001b[0mline1\u001b[0m\u001b[0;34m[\u001b[0m\u001b[0;36m1\u001b[0m\u001b[0;34m]\u001b[0m\u001b[0;34m)\u001b[0m\u001b[0;34m\u001b[0m\u001b[0;34m\u001b[0m\u001b[0m\n\u001b[1;32m      8\u001b[0m \u001b[0;34m\u001b[0m\u001b[0m\n",
            "\u001b[0;31mIndexError\u001b[0m: list index out of range"
          ]
        }
      ]
    }
  ]
}